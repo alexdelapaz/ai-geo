{
 "cells": [
  {
   "cell_type": "code",
   "execution_count": null,
   "id": "202050ea-6332-4f5c-9912-a00374e7b513",
   "metadata": {},
   "outputs": [],
   "source": [
    "ls"
   ]
  },
  {
   "cell_type": "code",
   "execution_count": null,
   "id": "ea6ddd2a-9fbe-4ce5-87f2-d90fd9edba2e",
   "metadata": {},
   "outputs": [],
   "source": [
    "pwd"
   ]
  },
  {
   "cell_type": "code",
   "execution_count": null,
   "id": "49c7878f-5b97-4a95-a8f0-85b2f14c553f",
   "metadata": {},
   "outputs": [],
   "source": [
    "ls /"
   ]
  },
  {
   "cell_type": "code",
   "execution_count": null,
   "id": "0f37817a-d24a-4a5a-9691-2919bff6009f",
   "metadata": {
    "scrolled": true
   },
   "outputs": [],
   "source": [
    "ls /datasets"
   ]
  },
  {
   "cell_type": "code",
   "execution_count": null,
   "id": "3dc6478b-696d-453f-9b6f-3c04a89ac8b8",
   "metadata": {},
   "outputs": [],
   "source": [
    "#!curl -o /datasets/tl_2024_us_state.zip https://www2.census.gov/geo/tiger/TIGER2024/STATE/tl_2024_us_state.zip"
   ]
  },
  {
   "cell_type": "code",
   "execution_count": null,
   "id": "7290b2c3-9c33-46f8-8db4-1d24c6d1cd47",
   "metadata": {},
   "outputs": [],
   "source": [
    "ls /datasets/tl_2024_us_state.zip"
   ]
  },
  {
   "cell_type": "code",
   "execution_count": null,
   "id": "4ce8d76f-4607-4c96-a875-bd8e0a883ffe",
   "metadata": {},
   "outputs": [],
   "source": [
    "#! unzip /datasets/tl_2024_us_state.zip -d /datasets/tl_2024_us_state"
   ]
  },
  {
   "cell_type": "code",
   "execution_count": null,
   "id": "9caa2d89-e6ac-4bcd-906c-da0405967686",
   "metadata": {},
   "outputs": [],
   "source": [
    "ls /datasets/tl_2024_us_state"
   ]
  },
  {
   "cell_type": "markdown",
   "id": "6606277f-9fd2-47ef-b6b5-4cfe1a6aedb7",
   "metadata": {},
   "source": [
    "# Geopandas DC geodataframe slice from Census shp files"
   ]
  },
  {
   "cell_type": "code",
   "execution_count": null,
   "id": "a72a445c-58df-434b-9a83-b0cec5020697",
   "metadata": {},
   "outputs": [],
   "source": [
    "import geopandas as gpd"
   ]
  },
  {
   "cell_type": "code",
   "execution_count": null,
   "id": "410c944e-95b3-4369-acdc-1ba9faf6adb5",
   "metadata": {},
   "outputs": [],
   "source": [
    "gdf_us = gpd.read_file('/datasets/tl_2024_us_state/tl_2024_us_state.shp')"
   ]
  },
  {
   "cell_type": "code",
   "execution_count": null,
   "id": "68ddc73c-a9f5-4451-b4db-0c4506883160",
   "metadata": {},
   "outputs": [],
   "source": [
    "gdf_us.head(2)"
   ]
  },
  {
   "cell_type": "code",
   "execution_count": null,
   "id": "c49d8538-d883-444a-9d77-e5992b5907e2",
   "metadata": {},
   "outputs": [],
   "source": [
    "gdf_us.columns"
   ]
  },
  {
   "cell_type": "code",
   "execution_count": null,
   "id": "0cdc71f5-70c1-49e3-9087-b17c6ad01628",
   "metadata": {
    "scrolled": true
   },
   "outputs": [],
   "source": [
    "gdf_us.items"
   ]
  },
  {
   "cell_type": "code",
   "execution_count": null,
   "id": "bb7062f2-251f-48f0-8d4b-34ddc9a49157",
   "metadata": {},
   "outputs": [],
   "source": [
    "gdf_us.iloc[53]"
   ]
  },
  {
   "cell_type": "code",
   "execution_count": null,
   "id": "6bf5844c-6761-4fa8-8bdd-17eda049a5af",
   "metadata": {},
   "outputs": [],
   "source": [
    "gdf_dc = gdf_us[gdf_us.STUSPS=='DC']"
   ]
  },
  {
   "cell_type": "code",
   "execution_count": null,
   "id": "c7a0bf47-879d-40f7-9900-80ce56883286",
   "metadata": {},
   "outputs": [],
   "source": [
    "gdf_dc"
   ]
  },
  {
   "cell_type": "code",
   "execution_count": null,
   "id": "086c8bfc-73f2-4d83-9770-214bbaa4ed66",
   "metadata": {},
   "outputs": [],
   "source": [
    "gdf_dc.crs"
   ]
  },
  {
   "cell_type": "code",
   "execution_count": null,
   "id": "c8efd02d-9c04-44c9-8cdf-9a3e48c97436",
   "metadata": {},
   "outputs": [],
   "source": [
    "gdf_dc.bounds"
   ]
  },
  {
   "cell_type": "code",
   "execution_count": null,
   "id": "af1e01c8-b864-4f77-a428-4fed1833061d",
   "metadata": {},
   "outputs": [],
   "source": [
    "gdf_dc.plot()"
   ]
  },
  {
   "cell_type": "code",
   "execution_count": null,
   "id": "fca6498e-4d65-4282-b8c0-7ca1f8bdb513",
   "metadata": {},
   "outputs": [],
   "source": [
    "type(gdf_dc.bounds.values)"
   ]
  },
  {
   "cell_type": "code",
   "execution_count": null,
   "id": "6b4da7e5-f32c-469b-b519-2338ebd2f1c4",
   "metadata": {},
   "outputs": [],
   "source": [
    "gdf_dc.bounds.values.shape"
   ]
  },
  {
   "cell_type": "code",
   "execution_count": null,
   "id": "d14aa39a-e296-4443-a183-e3befc068e22",
   "metadata": {},
   "outputs": [],
   "source": [
    "gdf_dc.bounds.values"
   ]
  },
  {
   "cell_type": "code",
   "execution_count": null,
   "id": "45882664-cafd-46ff-bfcb-39537690c6a4",
   "metadata": {},
   "outputs": [],
   "source": [
    "gdf_dc.bounds.values.tolist()"
   ]
  },
  {
   "cell_type": "code",
   "execution_count": null,
   "id": "58d39272-0672-4029-a4c8-e1e29b9edccd",
   "metadata": {},
   "outputs": [],
   "source": [
    "# index into (1,4) shape to get inner array len 4\n",
    "list_dc_bounds = gdf_dc.bounds.values.tolist()[0]"
   ]
  },
  {
   "cell_type": "markdown",
   "id": "26b249d4-9ad1-438c-b002-ca8214d3ff2d",
   "metadata": {},
   "source": [
    "#### Python list of dc boundary coordinates"
   ]
  },
  {
   "cell_type": "code",
   "execution_count": null,
   "id": "79d2697d-df38-426d-9214-ce7bc5684fd1",
   "metadata": {},
   "outputs": [],
   "source": [
    "list_dc_bounds"
   ]
  },
  {
   "cell_type": "markdown",
   "id": "f1ce297e-fd49-4473-b667-af8a73b4ae21",
   "metadata": {},
   "source": [
    "## python dictionary of parameters for stac search"
   ]
  },
  {
   "cell_type": "code",
   "execution_count": null,
   "id": "48203a47-a692-41a7-9fcf-c124228441a6",
   "metadata": {},
   "outputs": [],
   "source": [
    "params = {}"
   ]
  },
  {
   "cell_type": "code",
   "execution_count": null,
   "id": "272fcf1a-b8a6-41a8-b0f6-9b7bd107d951",
   "metadata": {},
   "outputs": [],
   "source": [
    "params['limit'] = 400\n",
    "\n",
    "# tuple is immutable, represent coordinates as tuple and not list - which is mutable\n",
    "params['bbox'] = tuple(list_dc_bounds)\n",
    "\n",
    "date_time = \"2022-01-01T00:00:00Z/2022-12-31T23:59:59Z\"\n",
    "params['datetime'] = date_time\n",
    "\n",
    "collections = ['landsat-c2l2-sr']\n",
    "params['collections'] = collections\n",
    "\n",
    "params['query'] = {\"platform\": {\"in\": [\"LANDSAT_9\"]},\n",
    "                   'eo:cloud_cover':{'lte': 20}}"
   ]
  },
  {
   "cell_type": "code",
   "execution_count": null,
   "id": "2cb29767-ac5e-49ef-bd33-85bd74a30df9",
   "metadata": {},
   "outputs": [],
   "source": [
    "params"
   ]
  },
  {
   "cell_type": "markdown",
   "id": "735b2bd4-6247-44fe-803e-9bff5fee863b",
   "metadata": {},
   "source": [
    "## requests to call stac with parameters dictionary"
   ]
  },
  {
   "cell_type": "code",
   "execution_count": null,
   "id": "fdded89a-8076-4ed0-acb5-b288e8cbdb30",
   "metadata": {},
   "outputs": [],
   "source": [
    "import requests as rq"
   ]
  },
  {
   "cell_type": "code",
   "execution_count": null,
   "id": "377d1e15-8ec3-49ed-9fbe-81b06d330a0a",
   "metadata": {},
   "outputs": [],
   "source": [
    "def fetch_stac_server(query):\n",
    "    '''\n",
    "    Queries the stac-server (STAC) backend.\n",
    "    query is a python dictionary to pass as json to the request.\n",
    "    '''\n",
    "    \n",
    "    search_url = f\"https://landsatlook.usgs.gov/stac-server/search\"\n",
    "    query_return = rq.post(search_url, json=query).json()\n",
    "    error = query_return.get(\"message\", \"\")\n",
    "    if error:\n",
    "        raise Exception(f\"STAC-Server failed and returned: {error}\")\n",
    "        \n",
    "    print(f\"Items Found: {len(query_return['features'])}\")    \n",
    "    \n",
    "    for q in query_return['features']: print(f\"Platform: {q['properties']['platform']}, Cloud Cover: {q['properties']['eo:cloud_cover']}, Collection: {q['description']}, ID: {q['id']}\")\n",
    "        \n",
    "    return query_return"
   ]
  },
  {
   "cell_type": "code",
   "execution_count": null,
   "id": "3b646e43-7f69-4b9a-9953-0a10a666e0de",
   "metadata": {},
   "outputs": [],
   "source": [
    "query_return = fetch_stac_server(params)"
   ]
  },
  {
   "cell_type": "code",
   "execution_count": null,
   "id": "ffc350f4-d3e3-4d05-9c99-d0b30a480a8e",
   "metadata": {
    "scrolled": true
   },
   "outputs": [],
   "source": [
    "query_return"
   ]
  },
  {
   "cell_type": "code",
   "execution_count": null,
   "id": "153dbe09-4f41-4ea0-888f-548095fc4176",
   "metadata": {},
   "outputs": [],
   "source": [
    "len(query_return)"
   ]
  },
  {
   "cell_type": "code",
   "execution_count": null,
   "id": "2a781d7e-bd36-4945-be14-d9cfbd2920d0",
   "metadata": {},
   "outputs": [],
   "source": [
    "type(query_return)"
   ]
  },
  {
   "cell_type": "code",
   "execution_count": null,
   "id": "16c6e77a-490a-4c22-a52e-3958b0bafd95",
   "metadata": {
    "scrolled": true
   },
   "outputs": [],
   "source": [
    "query_return['features']"
   ]
  },
  {
   "cell_type": "code",
   "execution_count": null,
   "id": "8e35d261-f610-453b-be10-6f870dc66ff0",
   "metadata": {},
   "outputs": [],
   "source": [
    "params"
   ]
  },
  {
   "cell_type": "code",
   "execution_count": null,
   "id": "486bf20c-2aef-496a-aa69-4132de89399d",
   "metadata": {},
   "outputs": [],
   "source": [
    "def list_item_assets(query_item):\n",
    "    print(query_item['id'])\n",
    "    \n",
    "    # Print some of the  metadata attributes for the product\n",
    "    print(f\"> Product Family: {query_item['description']}\")\n",
    "    print(f\"> Product ID: {query_item['id']}\")\n",
    "    print(f\"> Acquisition Date: {query_item['properties']['datetime']}\")\n",
    "    print(f\"> Spacecraft (Platform): {query_item['properties']['platform']}\")\n",
    "    print(f\"> Cloud Cover: {query_item['properties']['eo:cloud_cover']}%.\")\n",
    "    print(f\"> Number of assets: {len(query_item['assets'])} assets\")\n",
    "    print(f\"> BBOX: {query_item['bbox']}\") \n",
    "    \n",
    "    for a in query_item['assets']: #print assets in each feature\n",
    "        \n",
    "        print('\\n'+ a)\n",
    "        \n",
    "        try:\n",
    "            print(f\"Asset: {query_item['assets'][a]['title']}\")\n",
    "            print(f\"type: {query_item['assets'][a]['type']}\")\n",
    "            print(f\"Description: {query_item['assets'][a]['description']}\")\n",
    "            print(f\"Role: {query_item['assets'][a]['roles']}\")\n",
    "            print(f\"S3 URL: {query_item['assets'][a]['alternate']['s3']['href']}\")\n",
    "            \n",
    "            # for asset in query_item['assets']:\n",
    "            #     print(f\"{asset}: {query_item['assets'][asset]['title']}\")\n",
    "\n",
    "        except:\n",
    "            print(f\"Role: {query_item['assets'][a]['roles']}\")\n",
    "            print(f\"URL: {query_item['assets'][a]['href']}\")\n",
    "\n",
    "            continue\n",
    "            \n",
    "    return 0"
   ]
  },
  {
   "cell_type": "code",
   "execution_count": null,
   "id": "23039c46-7525-4048-8476-157189123c37",
   "metadata": {},
   "outputs": [],
   "source": [
    "for feature in query_return['features']:\n",
    "    print(feature['assets']['blue'])\n",
    "    print(feature['assets']['green'])\n",
    "    print(feature['assets']['red'])\n",
    "    print()"
   ]
  },
  {
   "cell_type": "code",
   "execution_count": null,
   "id": "3ca35b44-0c28-4911-8f26-23e938b46d40",
   "metadata": {},
   "outputs": [],
   "source": [
    "query_item = query_return['features'][0] #search a single feature (item) in the collection"
   ]
  },
  {
   "cell_type": "code",
   "execution_count": null,
   "id": "3cf48e15-5809-4314-8d53-32abd45851c8",
   "metadata": {},
   "outputs": [],
   "source": [
    "type(query_item)"
   ]
  },
  {
   "cell_type": "code",
   "execution_count": null,
   "id": "a2d4d0d9-54f0-4409-8536-1875d9687fcc",
   "metadata": {},
   "outputs": [],
   "source": [
    "#query_item.keys()\n",
    "[print(key) for key in query_item.keys()]"
   ]
  },
  {
   "cell_type": "code",
   "execution_count": null,
   "id": "7a6b96bf-6997-4130-9fca-f9423d10a05e",
   "metadata": {
    "scrolled": true
   },
   "outputs": [],
   "source": [
    "query_item"
   ]
  },
  {
   "cell_type": "code",
   "execution_count": null,
   "id": "733ca647-cb8d-48d8-8c22-47b8f83727ba",
   "metadata": {
    "scrolled": true
   },
   "outputs": [],
   "source": [
    "list_item_assets(query_item)"
   ]
  },
  {
   "cell_type": "code",
   "execution_count": null,
   "id": "3d4df880-ee4d-4ad3-a4e2-4226ea7ab6d9",
   "metadata": {},
   "outputs": [],
   "source": [
    "query_item['assets'].keys()"
   ]
  },
  {
   "cell_type": "code",
   "execution_count": null,
   "id": "17be87f7-e8cf-428a-904b-a9c42ae791b7",
   "metadata": {},
   "outputs": [],
   "source": [
    "for el in list(query_item['assets'].keys()):\n",
    "    print(el)\n",
    "    print()\n",
    "    print(query_item['assets'][el])\n",
    "    print()"
   ]
  },
  {
   "cell_type": "code",
   "execution_count": null,
   "id": "92068644-42ed-4870-813a-275310e60221",
   "metadata": {},
   "outputs": [],
   "source": [
    "bands = ['red', 'green', 'blue']\n",
    "band_ids = []\n",
    "band_links = []"
   ]
  },
  {
   "cell_type": "code",
   "execution_count": null,
   "id": "e175dd15-f95b-4bdd-94a6-eef7b456d52a",
   "metadata": {},
   "outputs": [],
   "source": [
    "for b in bands: #sort through a string to find relevant band names\n",
    "        band_links.append(query_item['assets'][b]['alternate']['s3']['href'])\n",
    "        band_ids.append(query_item['assets'][b]['eo:bands'][0]['name'])"
   ]
  },
  {
   "cell_type": "code",
   "execution_count": null,
   "id": "7cddd944-32df-404e-af78-fb1d20c8f799",
   "metadata": {},
   "outputs": [],
   "source": [
    "print(bands,'\\n')\n",
    "print(band_links,'\\n')\n",
    "print(band_ids,'\\n')"
   ]
  },
  {
   "cell_type": "markdown",
   "id": "a4e3dfb2-b7ff-46fb-9db6-1b49c0b1fd66",
   "metadata": {},
   "source": [
    "## request to stac sever with metadata to locate specific cog"
   ]
  },
  {
   "cell_type": "code",
   "execution_count": null,
   "id": "3362d500-1bf5-4a33-a6e7-096d3566096c",
   "metadata": {},
   "outputs": [],
   "source": [
    "# pip install rasterio\n",
    "import requests\n",
    "import rasterio as rio"
   ]
  },
  {
   "cell_type": "code",
   "execution_count": null,
   "id": "402b0402-25f1-431f-b9f8-92a298670852",
   "metadata": {},
   "outputs": [],
   "source": [
    "# url = 's3://usgs-landsat/collection02/level-2/standard/oli-tirs/2024/015/033/LC09_L2SP_015033_20241020_20241022_02_T1/LC09_L2SP_015033_20241020_20241022_02_T1_SR_B4.TIF'\n",
    "\n",
    "url = band_links[1]"
   ]
  },
  {
   "cell_type": "code",
   "execution_count": null,
   "id": "853d37fe-0e7f-4ebf-bde5-8e7b47b4c782",
   "metadata": {},
   "outputs": [],
   "source": [
    "print(url)"
   ]
  },
  {
   "cell_type": "code",
   "execution_count": null,
   "id": "38d045bc-144e-4016-9079-8075b95ad4b7",
   "metadata": {},
   "outputs": [],
   "source": [
    "local_file = 'DC_4.tif'"
   ]
  },
  {
   "cell_type": "code",
   "execution_count": null,
   "id": "8aadd49f-5788-446b-9a6b-71196c033068",
   "metadata": {},
   "outputs": [],
   "source": [
    "ls"
   ]
  },
  {
   "cell_type": "markdown",
   "id": "d81350ba-761d-4391-8881-c17806b2e8f3",
   "metadata": {},
   "source": [
    "## download cog"
   ]
  },
  {
   "cell_type": "code",
   "execution_count": null,
   "id": "1316a1d1-0f48-48c7-89fc-3b01ca83742d",
   "metadata": {},
   "outputs": [],
   "source": [
    "def retrieve_cog(geotiff_path, aoi_geodf):\n",
    "    \"\"\"\n",
    "    Retrieve a Cloud-Optimized GeoTIFF (COG) within a specified bounding box.\n",
    "\n",
    "    Parameters:\n",
    "        - geotiff_path (str): Path to the COG GeoTIFF file.\n",
    "        - aoi_geodf (geopandas.GeoDataFrame): GeoDataFrame representing the area of interest.\n",
    "\n",
    "    Returns:\n",
    "        - cog (numpy.ndarray): Numpy array containing the data within the specified bounding box.\n",
    "    \"\"\"\n",
    "    with rio.Env(aws_session):\n",
    "        with rio.open(geotiff_path) as src:\n",
    "            # Assuming aoi_geodf has a different CRS, transform it to match the CRS of the raster\n",
    "            aoi_geodf = aoi_geodf.to_crs(src.crs)\n",
    "            cog = src.read(1, window=from_bounds(\n",
    "                aoi_geodf.bounds.minx.iloc[0],\n",
    "                aoi_geodf.bounds.miny.iloc[0],\n",
    "                aoi_geodf.bounds.maxx.iloc[0],\n",
    "                aoi_geodf.bounds.maxy.iloc[0],\n",
    "                src.transform))\n",
    "    return cog"
   ]
  },
  {
   "cell_type": "code",
   "execution_count": null,
   "id": "0a26544c-e187-4bfb-95dc-bc27b7359b96",
   "metadata": {},
   "outputs": [],
   "source": [
    "bbox_in =[\n",
    "            gdf_dc.bounds.minx.iloc[0],\n",
    "            gdf_dc.bounds.miny.iloc[0],\n",
    "            gdf_dc.bounds.maxx.iloc[0],\n",
    "            gdf_dc.bounds.maxy.iloc[0],\n",
    "]"
   ]
  },
  {
   "cell_type": "code",
   "execution_count": null,
   "id": "6dc2b50b-fd17-467c-ba8c-523d31f2ff51",
   "metadata": {},
   "outputs": [],
   "source": [
    "bbox_in"
   ]
  },
  {
   "cell_type": "code",
   "execution_count": null,
   "id": "995d943b-622a-4001-b607-9c6ce25777b9",
   "metadata": {},
   "outputs": [],
   "source": [
    "xmin, ymin, xmax, ymax = bbox_in #list_dc_bounds\n",
    "bbox_in = [[ymin, xmin], [ymax, xmax]]\n",
    "center_in = [(ymin + ymax) / 2, (xmin + xmax) / 2]"
   ]
  },
  {
   "cell_type": "code",
   "execution_count": null,
   "id": "73844f09-0981-4ddf-80e9-d095d93d8051",
   "metadata": {},
   "outputs": [],
   "source": [
    "gdf_dc.bounds.minx.iloc[0]"
   ]
  },
  {
   "cell_type": "code",
   "execution_count": null,
   "id": "3b11c002-438a-436d-ae62-75dc692ef0bd",
   "metadata": {},
   "outputs": [],
   "source": [
    "gdf_4326 = gdf_dc.to_crs(epsg=4326)\n",
    "gdf_4326.crs"
   ]
  },
  {
   "cell_type": "code",
   "execution_count": null,
   "id": "719f9627-4049-4d77-92bf-c281c137d66c",
   "metadata": {},
   "outputs": [],
   "source": [
    "geotiff_path_in = 's3://usgs-landsat/collection02/level-2/standard/oli-tirs/2022/015/033/LC09_L2SP_015033_20221202_20230319_02_T1/LC09_L2SP_015033_20221202_20230319_02_T1_SR_B4.TIF'\n",
    "#gdf_dc\n",
    "\n",
    "import boto3\n",
    "from rasterio.session import AWSSession\n",
    "from rasterio.windows import from_bounds\n",
    "\n",
    "aws_session = AWSSession(boto3.Session(), requester_pays=True)\n",
    "cog_in = retrieve_cog(geotiff_path_in, gdf_4326)"
   ]
  },
  {
   "cell_type": "code",
   "execution_count": null,
   "id": "4b082d3e-a34b-4550-ab1b-45afd9276a17",
   "metadata": {},
   "outputs": [],
   "source": [
    "cog_in"
   ]
  },
  {
   "cell_type": "code",
   "execution_count": null,
   "id": "bfc78172-d299-4571-8b44-d46c36e314cf",
   "metadata": {
    "scrolled": true
   },
   "outputs": [],
   "source": [
    "from PIL import Image\n",
    "Image.fromarray(cog_in)"
   ]
  },
  {
   "cell_type": "code",
   "execution_count": null,
   "id": "29a3ccb3-f4fb-47a2-a52d-fb4737a93b2f",
   "metadata": {},
   "outputs": [],
   "source": []
  },
  {
   "cell_type": "code",
   "execution_count": null,
   "id": "9224fedd-8068-44fa-acd1-a504291aebca",
   "metadata": {},
   "outputs": [],
   "source": []
  },
  {
   "cell_type": "code",
   "execution_count": null,
   "id": "56d648a1-6138-4980-8993-92fe2ee945fc",
   "metadata": {},
   "outputs": [],
   "source": []
  },
  {
   "cell_type": "code",
   "execution_count": null,
   "id": "a452546e-fd28-4269-9d2c-6db8118df7d3",
   "metadata": {},
   "outputs": [],
   "source": []
  },
  {
   "cell_type": "code",
   "execution_count": null,
   "id": "33464e42-8099-4afd-8588-81fc7f630525",
   "metadata": {},
   "outputs": [],
   "source": [
    "# Folium map and overlay\n",
    "m = folium.Map(location=center_in, zoom_start=12)\n",
    "\n",
    "folium.raster_layers.ImageOverlay(\n",
    "    image=cog_in,\n",
    "    bounds=bbox_in,\n",
    "    opacity=0.9,\n",
    "    interactive=True,\n",
    "    cross_origin=False\n",
    ").add_to(m)"
   ]
  },
  {
   "cell_type": "code",
   "execution_count": null,
   "id": "dcbfa6a9-86af-4470-8072-3aa39a353c12",
   "metadata": {},
   "outputs": [],
   "source": [
    "m"
   ]
  },
  {
   "cell_type": "code",
   "execution_count": null,
   "id": "d030b472-a944-46d7-b347-d132d28b559f",
   "metadata": {},
   "outputs": [],
   "source": []
  },
  {
   "cell_type": "code",
   "execution_count": null,
   "id": "30c4fec8-36df-4b9c-8f30-3a00dc7fe020",
   "metadata": {},
   "outputs": [],
   "source": []
  },
  {
   "cell_type": "code",
   "execution_count": null,
   "id": "968b69a4-7cc6-4318-aed1-474ca1f5b3cb",
   "metadata": {},
   "outputs": [],
   "source": [
    "#!pip install boto3"
   ]
  },
  {
   "cell_type": "code",
   "execution_count": null,
   "id": "e54faff2-5507-442c-9e4e-8eea20a4ff4d",
   "metadata": {},
   "outputs": [],
   "source": [
    "import os\n",
    "\n",
    "os.environ['AWS_ACCESS_KEY_ID'] = ''\n",
    "os.environ['AWS_SECRET_ACCESS_KEY'] = ''\n",
    "os.environ['AWS_DEFAULT_REGION'] = 'us-east-1'  # or your preferred region"
   ]
  },
  {
   "cell_type": "code",
   "execution_count": null,
   "id": "e63ccf4f-e6b4-4b33-bbce-c6ad350f6b86",
   "metadata": {},
   "outputs": [],
   "source": [
    "import boto3\n",
    "\n",
    "s3 = boto3.client('s3')\n",
    "print(s3.list_buckets())"
   ]
  },
  {
   "cell_type": "code",
   "execution_count": null,
   "id": "e7709408-da03-4c61-905a-5d1ffe627b16",
   "metadata": {},
   "outputs": [],
   "source": [
    "#!pip install boto3\n",
    "import boto3\n",
    "from rasterio.session import AWSSession\n",
    "\n",
    "# session = boto3.Session()\n",
    "# aws_session = AWSSession(session)\n",
    "aws_session = AWSSession(boto3.Session(), requester_pays=True)"
   ]
  },
  {
   "cell_type": "code",
   "execution_count": null,
   "id": "28e0ce20-548b-4666-aaf9-c4c1e9be0767",
   "metadata": {},
   "outputs": [],
   "source": [
    "aws_session"
   ]
  },
  {
   "cell_type": "code",
   "execution_count": null,
   "id": "da3d5617-777a-4de9-ba4a-ba877617c6bb",
   "metadata": {},
   "outputs": [],
   "source": []
  },
  {
   "cell_type": "code",
   "execution_count": null,
   "id": "7d9b7272-cd37-4b5e-b410-1d4ae8c67a40",
   "metadata": {},
   "outputs": [],
   "source": [
    "pwd"
   ]
  },
  {
   "cell_type": "code",
   "execution_count": null,
   "id": "e1956ae7-ebe8-4667-b9ca-089c5f231eb4",
   "metadata": {},
   "outputs": [],
   "source": [
    "import rasterio as rio\n",
    "from rasterio.session import AWSSession\n",
    "import boto3\n",
    "from rasterio.env import Env\n",
    "\n",
    "# Step 1: Start an AWS session using local credentials (must be valid)\n",
    "session = boto3.Session()\n",
    "aws_session = AWSSession(session, requester_pays=True)\n",
    "\n",
    "# Step 2: Config required for requester pays buckets\n",
    "config = {\n",
    "    'GDAL_DISABLE_READDIR_ON_OPEN': 'EMPTY_DIR',\n",
    "    'CPL_VSIL_CURL_ALLOWED_EXTENSIONS': '.TIF',\n",
    "    'AWS_REQUEST_PAYER': 'requester'\n",
    "}\n",
    "\n",
    "# Step 3: URL of the S3 object\n",
    "url = 's3://usgs-landsat/collection02/level-2/standard/oli-tirs/2024/015/033/LC09_L2SP_015033_20241020_20241022_02_T1/LC09_L2SP_015033_20241020_20241022_02_T1_SR_B4.TIF'\n",
    "\n",
    "# Step 4: Open with rasterio using the session and config\n",
    "with Env(session=aws_session, **config):\n",
    "    with rio.open(url) as src:\n",
    "        cog = src.read(1)\n",
    "        print(\"Shape:\", cog.shape)\n",
    "        print(\"Metadata:\", src.meta)\n"
   ]
  },
  {
   "cell_type": "code",
   "execution_count": null,
   "id": "37d30aeb-80c8-4595-ac00-9e00813fe446",
   "metadata": {},
   "outputs": [],
   "source": [
    "url='s3://usgs-landsat/collection02/level-2/standard/oli-tirs/2024/015/033/LC09_L2SP_015033_20241020_20241022_02_T1/LC09_L2SP_015033_20241020_20241022_02_T1_SR_B4.TIF'\n"
   ]
  },
  {
   "cell_type": "code",
   "execution_count": null,
   "id": "2f9eadc8-550e-4233-982f-4bff1f6bb09c",
   "metadata": {},
   "outputs": [],
   "source": [
    "url"
   ]
  },
  {
   "cell_type": "code",
   "execution_count": null,
   "id": "93bc9d5c-f466-4372-b229-1da84928078f",
   "metadata": {},
   "outputs": [],
   "source": [
    "# url = '/vsicurl/https://landsat-pds.s3.amazonaws.com/c1/L8/042/034/LC08_L1TP_042034_20170616_20170629_01_T1/LC08_L1TP_042034_20170616_20170629_01_T1_B4.TIF'\n",
    "# url='s3://usgs-landsat/collection02/level-2/standard/oli-tirs/2024/015/033/LC09_L2SP_015033_20241020_20241022_02_T1/LC09_L2SP_015033_20241020_20241022_02_T1_SR_B4.TIF'\n",
    "\n",
    "#AWS_NO_SIGN_REQUEST='YES'\n",
    "#with Env(session=aws_session, **config):\n",
    "with Env(**config, session=aws_session, AWS_NO_SIGN_REQUEST='YES'):\n",
    "    with rio.open(url) as src:\n",
    "        cog = src.read(1)\n",
    "        print(src)\n"
   ]
  },
  {
   "cell_type": "code",
   "execution_count": null,
   "id": "53948f15-8897-4a30-8646-3de426c751f6",
   "metadata": {},
   "outputs": [],
   "source": [
    "import rasterio as rio\n",
    "from rasterio.env import Env\n",
    "\n",
    "url='s3://usgs-landsat/collection02/level-2/standard/oli-tirs/2024/015/033/LC09_L2SP_015033_20241020_20241022_02_T1/LC09_L2SP_015033_20241020_20241022_02_T1_SR_B4.TIF'\n",
    "\n",
    "config = {\n",
    "    'GDAL_DISABLE_READDIR_ON_OPEN': 'EMPTY_DIR',\n",
    "    'CPL_VSIL_CURL_ALLOWED_EXTENSIONS': '.TIF',\n",
    "    'GDAL_HTTP_MAX_RETRY': '10',\n",
    "    'GDAL_HTTP_RETRY_DELAY': '5',\n",
    "    'GDAL_HTTP_TIMEOUT': '30'\n",
    "}\n",
    "\n",
    "\n",
    "#AWS_NO_SIGN_REQUEST='YES'\n",
    "with Env(**config):\n",
    "    with rio.open(url) as src:\n",
    "        \n",
    "        print(src.crs)\n",
    "        bounds = src.bounds  # returns (left, bottom, right, top)\n",
    "        cog = src.read(1, masked=True)  # `masked=True` can handle partial reads better"
   ]
  },
  {
   "cell_type": "code",
   "execution_count": null,
   "id": "67c451a1-d62e-4641-b03a-43e1db6363f8",
   "metadata": {},
   "outputs": [],
   "source": [
    "cog"
   ]
  },
  {
   "cell_type": "code",
   "execution_count": null,
   "id": "ddbe0809-622a-4bf9-bd10-afc6aab1a645",
   "metadata": {},
   "outputs": [],
   "source": [
    "type(cog)"
   ]
  },
  {
   "cell_type": "code",
   "execution_count": null,
   "id": "95b1965d-9f75-4210-8b90-5e4d4305627d",
   "metadata": {},
   "outputs": [],
   "source": [
    "cog.ndim"
   ]
  },
  {
   "cell_type": "code",
   "execution_count": null,
   "id": "283a3696-f5a5-4346-bbb8-61e2ad3b20c6",
   "metadata": {},
   "outputs": [],
   "source": [
    "cog.shape"
   ]
  },
  {
   "cell_type": "code",
   "execution_count": null,
   "id": "3e1dee45-7ef0-41dc-b75c-67049db8a7df",
   "metadata": {},
   "outputs": [],
   "source": [
    "cog.dtype"
   ]
  },
  {
   "cell_type": "code",
   "execution_count": null,
   "id": "f6641066-1a12-4601-850f-0bc9bda44bb8",
   "metadata": {},
   "outputs": [],
   "source": [
    "cog[3333][3333]"
   ]
  },
  {
   "cell_type": "code",
   "execution_count": null,
   "id": "d958de76-aa60-49e1-95eb-ceff4ffe04f5",
   "metadata": {},
   "outputs": [],
   "source": [
    "cog.crs"
   ]
  },
  {
   "cell_type": "code",
   "execution_count": null,
   "id": "6b087d47-7e2d-4356-89d6-0c0611b06b0c",
   "metadata": {},
   "outputs": [],
   "source": [
    "del cog"
   ]
  },
  {
   "cell_type": "code",
   "execution_count": null,
   "id": "5fbdea19-a5ef-430c-bf09-7f607b25bb58",
   "metadata": {},
   "outputs": [],
   "source": [
    "cog"
   ]
  },
  {
   "cell_type": "code",
   "execution_count": null,
   "id": "1143001f-5b88-4709-8c63-5a414f68bd0d",
   "metadata": {},
   "outputs": [],
   "source": [
    "type(Image.fromarray(cog))"
   ]
  },
  {
   "cell_type": "code",
   "execution_count": null,
   "id": "4862e748-2003-4f79-a922-70423ab92e51",
   "metadata": {},
   "outputs": [],
   "source": [
    "from PIL import Image\n",
    "\n",
    "Image.fromarray(cog)"
   ]
  },
  {
   "cell_type": "code",
   "execution_count": null,
   "id": "157c32fc-d601-44cc-8d9a-63474711d7f9",
   "metadata": {},
   "outputs": [],
   "source": []
  },
  {
   "cell_type": "code",
   "execution_count": null,
   "id": "4a03d9af-913f-4ba4-8816-19fac69da683",
   "metadata": {},
   "outputs": [],
   "source": []
  },
  {
   "cell_type": "code",
   "execution_count": null,
   "id": "419a59c0-6679-4b58-a1d8-fc0f0aefd2c6",
   "metadata": {},
   "outputs": [],
   "source": [
    "import numpy as np\n",
    "\n",
    "def array_to_rgba_mask_nodata(array, nodata_value=None):\n",
    "    # Normalize to 0–255 for display\n",
    "    arr = array.astype(np.float32)\n",
    "    arr_min, arr_max = np.nanmin(arr), np.nanmax(arr)\n",
    "    arr = 255 * (arr - arr_min) / (arr_max - arr_min)\n",
    "    arr = arr.astype(np.uint8)\n",
    "\n",
    "    # Create RGB (grayscale)\n",
    "    rgb = np.stack([arr]*3, axis=-1)\n",
    "\n",
    "    # Alpha: fully opaque\n",
    "    alpha_channel = np.full_like(arr, 255, dtype=np.uint8)\n",
    "\n",
    "    # Make NoData pixels transparent\n",
    "    if nodata_value is not None:\n",
    "        mask = array == nodata_value\n",
    "        alpha_channel[mask] = 0\n",
    "\n",
    "    rgba = np.dstack([rgb, alpha_channel])  # shape: (H, W, 4)\n",
    "    # return Image.fromarray(rgba)\n",
    "    return rgba\n",
    "    "
   ]
  },
  {
   "cell_type": "code",
   "execution_count": null,
   "id": "50e93704-2162-4696-8104-b85d3df1f97b",
   "metadata": {},
   "outputs": [],
   "source": [
    "import rasterio\n",
    "from rasterio.warp import calculate_default_transform, reproject, Resampling\n",
    "from rasterio.io import MemoryFile\n",
    "from rasterio.session import AWSSession\n",
    "import boto3\n",
    "\n",
    "# Step 1: Authenticated session (for requester pays bucket)\n",
    "session = boto3.Session()\n",
    "aws_session = AWSSession(session, requester_pays=True)\n",
    "\n",
    "# Step 2: S3 COG URL (EPSG:32618)\n",
    "url = 's3://usgs-landsat/collection02/level-2/standard/oli-tirs/2024/015/033/LC09_L2SP_015033_20241020_20241022_02_T1/LC09_L2SP_015033_20241020_20241022_02_T1_SR_B4.TIF'\n",
    "\n",
    "# Step 3: Desired destination CRS\n",
    "dst_crs = 'EPSG:4326'\n",
    "\n",
    "# Step 4: Open source COG from S3 and reproject in memory\n",
    "with rasterio.Env(session=aws_session, AWS_REQUEST_PAYER='requester'):\n",
    "    with rasterio.open(url) as src:\n",
    "        transform, width, height = calculate_default_transform(\n",
    "            src.crs, dst_crs, src.width, src.height, *src.bounds)\n",
    "\n",
    "        dst_meta = src.meta.copy()\n",
    "        dst_meta.update({\n",
    "            'crs': dst_crs,\n",
    "            'transform': transform,\n",
    "            'width': width,\n",
    "            'height': height\n",
    "        })\n",
    "\n",
    "        # Step 5: Use MemoryFile to hold the reprojected image\n",
    "        with MemoryFile() as memfile:\n",
    "            with memfile.open(**dst_meta) as dst:\n",
    "                for i in range(1, src.count + 1):\n",
    "                    reproject(\n",
    "                        source=rasterio.band(src, i),\n",
    "                        destination=rasterio.band(dst, i),\n",
    "                        src_transform=src.transform,\n",
    "                        src_crs=src.crs,\n",
    "                        dst_transform=transform,\n",
    "                        dst_crs=dst_crs,\n",
    "                        resampling=Resampling.nearest\n",
    "                    )\n",
    "\n",
    "                # Read back the reprojected data\n",
    "                img = dst.read(1)\n",
    "                print(\"Reprojected array shape:\", img.shape)\n",
    "                result_array = array_to_rgba_mask_nodata(img, nodata_value=0)  # or whatever your nodata is\n",
    "\n",
    "\n",
    "                bounds = dst.bounds  # returns (left, bottom, right, top)"
   ]
  },
  {
   "cell_type": "code",
   "execution_count": null,
   "id": "0c61148b-7335-4db0-8c7d-0e39146ef839",
   "metadata": {},
   "outputs": [],
   "source": [
    "result_array"
   ]
  },
  {
   "cell_type": "code",
   "execution_count": null,
   "id": "00043881-21cb-48f7-b6fc-519fd4d49f52",
   "metadata": {},
   "outputs": [],
   "source": [
    "Image.fromarray(result_array)"
   ]
  },
  {
   "cell_type": "code",
   "execution_count": null,
   "id": "2a1dd116-fcba-4239-b127-17a23c0d76f3",
   "metadata": {},
   "outputs": [],
   "source": []
  },
  {
   "cell_type": "code",
   "execution_count": null,
   "id": "da374522-129e-4bd8-a3e2-16f5e1218d4a",
   "metadata": {},
   "outputs": [],
   "source": []
  },
  {
   "cell_type": "code",
   "execution_count": null,
   "id": "5992e0a1-4ab7-46f9-989b-769ce0ff6646",
   "metadata": {},
   "outputs": [],
   "source": []
  },
  {
   "cell_type": "code",
   "execution_count": null,
   "id": "fa5b6a86-af61-4eb8-a513-14e343160497",
   "metadata": {},
   "outputs": [],
   "source": []
  },
  {
   "cell_type": "code",
   "execution_count": null,
   "id": "1fe46fab-a230-4754-ae3d-c70a872c3cc1",
   "metadata": {},
   "outputs": [],
   "source": [
    "import numpy as np\n",
    "import matplotlib.pyplot as plt\n",
    "import folium\n",
    "from io import BytesIO\n",
    "import base64"
   ]
  },
  {
   "cell_type": "code",
   "execution_count": null,
   "id": "eb852666-a39a-4e50-a953-9f9bfb0f640f",
   "metadata": {},
   "outputs": [],
   "source": [
    "# xmin, ymin, xmax, ymax = list_dc_bounds\n",
    "xmin, ymin, xmax, ymax = bounds #list_dc_bounds\n",
    "bbox = [[ymin, xmin], [ymax, xmax]]\n",
    "center = [(ymin + ymax) / 2, (xmin + xmax) / 2]"
   ]
  },
  {
   "cell_type": "code",
   "execution_count": null,
   "id": "3211088f-103f-46f1-846a-6b45080fe3b2",
   "metadata": {},
   "outputs": [],
   "source": [
    "bbox"
   ]
  },
  {
   "cell_type": "code",
   "execution_count": null,
   "id": "76f1ec2a-2db5-42b2-8844-3fb04cae9f4a",
   "metadata": {},
   "outputs": [],
   "source": [
    "bounds"
   ]
  },
  {
   "cell_type": "code",
   "execution_count": null,
   "id": "4945dfca-1cba-426b-bf97-2536f0308d4d",
   "metadata": {},
   "outputs": [],
   "source": [
    "center"
   ]
  },
  {
   "cell_type": "code",
   "execution_count": null,
   "id": "37c604bb-d5f2-485c-b4b1-7e1fcd9a5b3f",
   "metadata": {},
   "outputs": [],
   "source": [
    "# # Save masked image to an in-memory PNG\n",
    "# buf = BytesIO()\n",
    "# plt.imsave(buf, cog, format='png', cmap='gray')  # or 'viridis', etc.\n",
    "# buf.seek(0)\n",
    "\n",
    "from PIL import Image\n",
    "img_pil = Image.fromarray(result_array)\n",
    "# Convert PIL image to base64-encoded PNG\n",
    "buf = BytesIO()\n",
    "img_pil.save(buf, format='PNG')\n",
    "img_base64 = base64.b64encode(buf.getvalue()).decode('utf-8')\n",
    "img_url = f\"data:image/png;base64,{img_base64}\"\n"
   ]
  },
  {
   "cell_type": "code",
   "execution_count": null,
   "id": "778bd7ce-d275-421f-987d-1052768a42c9",
   "metadata": {},
   "outputs": [],
   "source": [
    "#plt.imshow()"
   ]
  },
  {
   "cell_type": "code",
   "execution_count": null,
   "id": "81a779e6-0817-49d6-b275-761c58934744",
   "metadata": {},
   "outputs": [],
   "source": [
    "# # Encode image as base64 for embedding\n",
    "# img_base64 = base64.b64encode(buf.read()).decode('utf-8')\n",
    "# img_url = f\"data:image/png;base64,{img_base64}\"\n"
   ]
  },
  {
   "cell_type": "code",
   "execution_count": null,
   "id": "47225679-86f3-445d-ab76-f5b096868e2c",
   "metadata": {},
   "outputs": [],
   "source": [
    "#img_url is large\n",
    "\n",
    "import sys\n",
    "sys.getsizeof(img_url)"
   ]
  },
  {
   "cell_type": "code",
   "execution_count": null,
   "id": "086b58ff-78f8-4ad7-8d48-31499ce9eb4c",
   "metadata": {},
   "outputs": [],
   "source": [
    "# Folium map and overlay\n",
    "m = folium.Map(location=center, zoom_start=12)"
   ]
  },
  {
   "cell_type": "code",
   "execution_count": null,
   "id": "b9e8bbfd-d6af-410b-8edf-37ea76bdef9f",
   "metadata": {},
   "outputs": [],
   "source": [
    "folium.raster_layers.ImageOverlay(\n",
    "    image=img_url,\n",
    "    bounds=bbox,\n",
    "    opacity=0.9,\n",
    "    interactive=True,\n",
    "    cross_origin=False\n",
    ").add_to(m)"
   ]
  },
  {
   "cell_type": "code",
   "execution_count": null,
   "id": "22463b0e-5357-4533-9164-4a60f8254ddd",
   "metadata": {},
   "outputs": [],
   "source": [
    "folium.Rectangle(bounds=bbox, color=\"purple\", fill=False).add_to(m)\n",
    "folium.LayerControl().add_to(m)"
   ]
  },
  {
   "cell_type": "code",
   "execution_count": null,
   "id": "21f7a1bb-9128-46e9-b303-56a44a89af3b",
   "metadata": {},
   "outputs": [],
   "source": [
    "m  # Display in Jupyter\n"
   ]
  },
  {
   "cell_type": "code",
   "execution_count": null,
   "id": "8bce195b-f36a-4c05-a65e-a8fe675ac01a",
   "metadata": {},
   "outputs": [],
   "source": [
    "layer_count = len(m._children)\n",
    "layer_count"
   ]
  },
  {
   "cell_type": "code",
   "execution_count": null,
   "id": "cedec809-ecf6-4850-9ed1-0523b1d67080",
   "metadata": {},
   "outputs": [],
   "source": [
    "print(f\"Total layers (including controls, overlays, tiles): {layer_count}\")"
   ]
  },
  {
   "cell_type": "code",
   "execution_count": null,
   "id": "4e7c4da3-0fcd-4f11-a99c-e7c257571e57",
   "metadata": {},
   "outputs": [],
   "source": [
    "overlay_names = [child.layer_name for child in m._children.values()\n",
    "                 if hasattr(child, 'layer_name')]\n",
    "print(\"Named overlays:\", overlay_names)"
   ]
  },
  {
   "cell_type": "code",
   "execution_count": null,
   "id": "79234cc7-7d53-4103-8197-3bc76b523408",
   "metadata": {},
   "outputs": [],
   "source": [
    "folium.LayerControl().add_to(m)\n"
   ]
  },
  {
   "cell_type": "code",
   "execution_count": null,
   "id": "ad0a31dd-a7a7-413f-bdf8-89eabad12e14",
   "metadata": {},
   "outputs": [],
   "source": [
    "folium.LayerControl(collapsed=False).add_to(m)\n"
   ]
  },
  {
   "cell_type": "code",
   "execution_count": null,
   "id": "97a818f7-fb1b-453e-8585-50eca71790ff",
   "metadata": {},
   "outputs": [],
   "source": [
    "m"
   ]
  },
  {
   "cell_type": "code",
   "execution_count": null,
   "id": "45cec440-d6a6-41cb-a1a1-dc7c6918e204",
   "metadata": {},
   "outputs": [],
   "source": [
    "del m"
   ]
  },
  {
   "cell_type": "code",
   "execution_count": null,
   "id": "836862ff-55ba-4303-8dd4-47a6c8729f36",
   "metadata": {},
   "outputs": [],
   "source": []
  },
  {
   "cell_type": "code",
   "execution_count": null,
   "id": "ad356965-6e1f-4f9a-a343-890dd1b477cf",
   "metadata": {},
   "outputs": [],
   "source": []
  },
  {
   "cell_type": "code",
   "execution_count": null,
   "id": "e61ae375-8ded-4720-a733-cd25db57e79a",
   "metadata": {},
   "outputs": [],
   "source": []
  },
  {
   "cell_type": "code",
   "execution_count": null,
   "id": "8197f3ab-7fbb-41e1-8ca2-94c52bd0d086",
   "metadata": {},
   "outputs": [],
   "source": []
  },
  {
   "cell_type": "code",
   "execution_count": null,
   "id": "01376c22-1edd-4ec6-978b-6eee8a965906",
   "metadata": {},
   "outputs": [],
   "source": []
  },
  {
   "cell_type": "code",
   "execution_count": null,
   "id": "81264463-f4ff-4091-8bac-03492d655e85",
   "metadata": {},
   "outputs": [],
   "source": [
    "#!pip install folium\n",
    "!pip install matplotlib\n"
   ]
  },
  {
   "cell_type": "code",
   "execution_count": null,
   "id": "9bde6ce2-6736-469a-983d-0f0f1f67e6d5",
   "metadata": {
    "scrolled": true
   },
   "outputs": [],
   "source": [
    "import rasterio as rio\n",
    "from rasterio.plot import reshape_as_image\n",
    "from rasterio.env import Env\n",
    "from rasterio.warp import transform_bounds\n",
    "import folium\n",
    "import matplotlib.pyplot as plt\n",
    "import numpy as np\n",
    "import tempfile\n",
    "import os\n",
    "\n",
    "# ✅ Public COG URL from Google Cloud (same image as your original)\n",
    "url_new = \"/vsicurl/https://storage.googleapis.com/gcp-public-data-landsat/LC09/01/015/033/LC09_L2SP_015033_20241020_20241022_02_T1/LC09_L2SP_015033_20241020_20241022_02_T1_SR_B4.TIF\"\n",
    "\n",
    "# ✅ GDAL config for remote access\n",
    "config = {\n",
    "    'GDAL_DISABLE_READDIR_ON_OPEN': 'EMPTY_DIR',\n",
    "    'CPL_VSIL_CURL_ALLOWED_EXTENSIONS': '.TIF',\n",
    "    'GDAL_HTTP_MAX_RETRY': '10',\n",
    "    'GDAL_HTTP_RETRY_DELAY': '5',\n",
    "    'GDAL_HTTP_TIMEOUT': '30'\n",
    "}\n",
    "\n",
    "# ✅ Open and process image\n",
    "with Env(**config):\n",
    "    with rio.open(url_new) as src:\n",
    "        # Read band 4\n",
    "        img = src.read(1, masked=True)\n",
    "        bounds = src.bounds\n",
    "        crs = src.crs\n",
    "\n",
    "        # Reproject bounds to WGS84 (lat/lon) for folium\n",
    "        bounds_wgs84 = transform_bounds(crs, 'EPSG:4326', *bounds)\n",
    "        bbox = [\n",
    "            [bounds_wgs84[1], bounds_wgs84[0]],  # [south, west]\n",
    "            [bounds_wgs84[3], bounds_wgs84[2]]   # [north, east]\n",
    "        ]\n",
    "\n",
    "        # Save preview image\n",
    "        temp_file = os.path.join(tempfile.gettempdir(), 'landsat_b4_preview.png')\n",
    "        plt.imsave(temp_file, img, cmap='gray')\n",
    "\n",
    "        # Compute center of image\n",
    "        center_lat = (bounds_wgs84[1] + bounds_wgs84[3]) / 2\n",
    "        center_lon = (bounds_wgs84[0] + bounds_wgs84[2]) / 2\n",
    "\n",
    "# ✅ Plot on folium map\n",
    "m = folium.Map(location=[center_lat, center_lon], zoom_start=10)\n",
    "\n",
    "# Add grayscale image overlay\n",
    "folium.raster_layers.ImageOverlay(\n",
    "    name=\"Landsat Band 4\",\n",
    "    image=temp_file,\n",
    "    bounds=bbox,\n",
    "    opacity=0.6,\n",
    "    interactive=True,\n",
    "    cross_origin=False\n",
    ").add_to(m)\n",
    "\n",
    "# Add bounding box\n",
    "folium.Rectangle(\n",
    "    bounds=bbox,\n",
    "    color='red',\n",
    "    weight=2,\n",
    "    fill=False,\n",
    "    dash_array='5,5',\n",
    "    tooltip='COG bounds'\n",
    ").add_to(m)\n",
    "\n",
    "folium.LayerControl().add_to(m)\n",
    "m  # Show map\n"
   ]
  },
  {
   "cell_type": "code",
   "execution_count": null,
   "id": "55b38cc2-85d3-41de-b46b-6a0ba71fcb48",
   "metadata": {},
   "outputs": [],
   "source": []
  },
  {
   "cell_type": "code",
   "execution_count": null,
   "id": "ace0647e-bab2-484c-99d9-f5ba91460b58",
   "metadata": {},
   "outputs": [],
   "source": []
  },
  {
   "cell_type": "code",
   "execution_count": null,
   "id": "aa140f43-55af-4af0-bd3b-4e238534fbf3",
   "metadata": {},
   "outputs": [],
   "source": []
  },
  {
   "cell_type": "code",
   "execution_count": null,
   "id": "99820ea0-f98a-4b85-bd65-846d7ec7a323",
   "metadata": {},
   "outputs": [],
   "source": []
  },
  {
   "cell_type": "code",
   "execution_count": null,
   "id": "2d40f654-19e5-40e0-92bd-7167c905bf1d",
   "metadata": {},
   "outputs": [],
   "source": []
  },
  {
   "cell_type": "code",
   "execution_count": null,
   "id": "53d93677-e510-4492-a099-8cfdd6944405",
   "metadata": {},
   "outputs": [],
   "source": [
    "config"
   ]
  },
  {
   "cell_type": "code",
   "execution_count": null,
   "id": "89e2be3e-b06d-4741-8060-d2311ab4b45f",
   "metadata": {},
   "outputs": [],
   "source": [
    "cog_url"
   ]
  },
  {
   "cell_type": "code",
   "execution_count": null,
   "id": "2bdbf243-23a4-4663-a316-f12ffbd26d93",
   "metadata": {},
   "outputs": [],
   "source": [
    "with Env(session=aws_session, **config):\n",
    "    with rio.open(cog_url) as src:\n",
    "        cog = src.read(1)"
   ]
  },
  {
   "cell_type": "code",
   "execution_count": null,
   "id": "7c625de4-527d-4247-81d7-3f285c708768",
   "metadata": {},
   "outputs": [],
   "source": [
    "Image.fromarray(cog)"
   ]
  },
  {
   "cell_type": "code",
   "execution_count": null,
   "id": "795f6660-0781-4d33-9220-f22cd2d714da",
   "metadata": {},
   "outputs": [],
   "source": []
  },
  {
   "cell_type": "code",
   "execution_count": null,
   "id": "f4f37d9f-1502-4532-889b-6f3a6791ad4f",
   "metadata": {},
   "outputs": [],
   "source": []
  },
  {
   "cell_type": "code",
   "execution_count": null,
   "id": "1cad38f3-5272-47b8-beaa-c1549c2c5ef5",
   "metadata": {},
   "outputs": [],
   "source": []
  },
  {
   "cell_type": "code",
   "execution_count": null,
   "id": "50da3960-94c0-46ca-ab4e-25cd2f23b8ea",
   "metadata": {},
   "outputs": [],
   "source": []
  },
  {
   "cell_type": "code",
   "execution_count": null,
   "id": "455be4f1-8e9a-45fd-a175-3961a3e2b14b",
   "metadata": {},
   "outputs": [],
   "source": [
    "#!pip install boto3\n",
    "import boto3\n",
    "from rasterio.session import AWSSession\n",
    "\n",
    "# session = boto3.Session()\n",
    "# aws_session = AWSSession(session)\n",
    "aws_session = AWSSession(boto3.Session(), requester_pays=True)\n",
    "\n",
    "\n",
    "\n",
    "from rasterio.plot import show as rio_show\n",
    "\n",
    "rio_show(retrieve_cog(band_links[0],list_dc_bounds), cmap='viridis')"
   ]
  },
  {
   "cell_type": "code",
   "execution_count": null,
   "id": "f375f7cb-a528-4090-bf00-ae40fcfb8f6c",
   "metadata": {},
   "outputs": [],
   "source": []
  },
  {
   "cell_type": "code",
   "execution_count": null,
   "id": "5100ce7b-ecb0-432f-a95e-16a0000cba5f",
   "metadata": {},
   "outputs": [],
   "source": []
  },
  {
   "cell_type": "code",
   "execution_count": null,
   "id": "3cb967ac-0918-4af6-af96-6bebccb73441",
   "metadata": {},
   "outputs": [],
   "source": []
  },
  {
   "cell_type": "code",
   "execution_count": null,
   "id": "220cbc9e-92e6-43fd-8f4c-deaf92909d74",
   "metadata": {},
   "outputs": [],
   "source": []
  },
  {
   "cell_type": "code",
   "execution_count": null,
   "id": "195034eb-caad-4c1c-8d95-affc413aeef5",
   "metadata": {},
   "outputs": [],
   "source": []
  },
  {
   "cell_type": "code",
   "execution_count": null,
   "id": "1c2e892a-1afd-438b-8521-ef0e8ff7d54a",
   "metadata": {},
   "outputs": [],
   "source": [
    "import rasterio as rio\n",
    "from rasterio.env import Env\n",
    "\n",
    "cog_url = '/vsicurl/https://storage.googleapis.com/gcp-public-data-landsat/LC08/01/042/034/LC08_L1TP_042034_20170616_20170629_01_T1/LC08_L1TP_042034_20170616_20170629_01_T1_B4.TIF'\n",
    "\n",
    "config = {\n",
    "    'GDAL_DISABLE_READDIR_ON_OPEN': 'EMPTY_DIR',\n",
    "    'CPL_VSIL_CURL_ALLOWED_EXTENSIONS': '.TIF',\n",
    "    'GDAL_HTTP_MAX_RETRY': '10',\n",
    "    'GDAL_HTTP_RETRY_DELAY': '5',\n",
    "    'GDAL_HTTP_TIMEOUT': '30'\n",
    "}\n",
    "\n",
    "with Env(**config):\n",
    "    with rio.open(cog_url) as src:\n",
    "        cog = src.read(1, masked=True)  # `masked=True` can handle partial reads better"
   ]
  },
  {
   "cell_type": "code",
   "execution_count": null,
   "id": "e88eebbc-78d1-4d75-bc2b-97cabb585c99",
   "metadata": {},
   "outputs": [],
   "source": [
    "cog"
   ]
  },
  {
   "cell_type": "code",
   "execution_count": null,
   "id": "ead1f35f-d797-48aa-babf-cc4447cd2e7d",
   "metadata": {},
   "outputs": [],
   "source": [
    "del cog"
   ]
  },
  {
   "cell_type": "code",
   "execution_count": null,
   "id": "57c98818-a720-4687-a02c-26d254137579",
   "metadata": {},
   "outputs": [],
   "source": []
  },
  {
   "cell_type": "code",
   "execution_count": null,
   "id": "603af904-88cf-4c15-88f3-5a31a5b66e97",
   "metadata": {},
   "outputs": [],
   "source": []
  },
  {
   "cell_type": "code",
   "execution_count": null,
   "id": "c29d94fc-9352-4c1c-9955-0a28ec45aab9",
   "metadata": {},
   "outputs": [],
   "source": [
    "from PIL import Image\n",
    "\n",
    "Image.fromarray(cog)"
   ]
  },
  {
   "cell_type": "code",
   "execution_count": null,
   "id": "5c92c09e-150d-4cb0-bbbd-8edf4dc458da",
   "metadata": {},
   "outputs": [],
   "source": [
    "#Image.fromarray(cog).save(\"/datasets/SAT_landsat_b4.png\")"
   ]
  },
  {
   "cell_type": "code",
   "execution_count": null,
   "id": "f995ff5f-4acf-4ab4-8504-2823d44e632e",
   "metadata": {},
   "outputs": [],
   "source": []
  }
 ],
 "metadata": {
  "kernelspec": {
   "display_name": "Python 3 (ipykernel)",
   "language": "python",
   "name": "python3"
  },
  "language_info": {
   "codemirror_mode": {
    "name": "ipython",
    "version": 3
   },
   "file_extension": ".py",
   "mimetype": "text/x-python",
   "name": "python",
   "nbconvert_exporter": "python",
   "pygments_lexer": "ipython3",
   "version": "3.12.4"
  }
 },
 "nbformat": 4,
 "nbformat_minor": 5
}
